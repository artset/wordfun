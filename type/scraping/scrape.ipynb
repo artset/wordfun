{
 "cells": [
  {
   "cell_type": "code",
   "execution_count": 76,
   "metadata": {},
   "outputs": [
    {
     "name": "stdout",
     "output_type": "stream",
     "text": [
      "https://www.newyorker.com/magazine/2012/10/15/the-semplica-girl-diaries\n",
      "finished this file\n",
      "https://www.newyorker.com/magazine/2016/11/21/flower-hunters\n",
      "finished this file\n",
      "https://www.newyorker.com/magazine/2018/07/09/under-the-wave\n",
      "finished this file\n",
      "https://www.newyorker.com/magazine/2011/10/31/tenth-of-december\n",
      "finished this file\n",
      "https://www.newyorker.com/magazine/2011/09/05/town-of-cats\n",
      "finished this file\n",
      "https://www.newyorker.com/magazine/2015/02/23/kino\n",
      "finished this file\n",
      "https://www.newyorker.com/magazine/2013/10/28/samsa-in-love\n",
      "finished this file\n",
      "https://www.newyorker.com/magazine/2018/04/16/the-silence-the-legacy-of-childhood-trauma\n",
      "finished this file\n"
     ]
    }
   ],
   "source": [
    "import os \n",
    "import re \n",
    "import json \n",
    "import requests \n",
    "from datetime import timedelta, date \n",
    "from time import sleep \n",
    "from bs4 import BeautifulSoup\n",
    "\n",
    "def get_parsed_html(URL):\n",
    "    request = urllib.request.Request(URL) \n",
    "    response = urllib.request.urlopen(request) \n",
    "    page = response.read() \n",
    "    parsed = BeautifulSoup(page, 'html.parser') \n",
    "    return parsed\n",
    "\n",
    "\n",
    "################################################\n",
    "# set up all variables\n",
    "\n",
    "# SEMPLICAL_GIRLS = \"https://www.newyorker.com/magazine/2012/10/15/the-semplica-girl-diaries\" \n",
    "\n",
    "# sg_html = get_parsed_html(SEMPLICAL_GIRLS)\n",
    "# # print(sg_html)\n",
    "\n",
    "# paragraphs = sg_html.find_all('p')\n",
    "\n",
    "# print(paragraphs)\n",
    "\n",
    "# file = open(\"sg.txt\", \"w\") \n",
    "\n",
    "# for p in paragraphs:\n",
    "#     file.write(p.text)\n",
    "# file.close() \n",
    "\n",
    "\n",
    "books = [\n",
    "    [\"semplica_girls-george_saunders\", \"https://www.newyorker.com/magazine/2012/10/15/the-semplica-girl-diaries\" ],\n",
    "    [\"flower_hunter-lauren_groff\", \"https://www.newyorker.com/magazine/2016/11/21/flower-hunters\"],\n",
    "    [\"under_wave-lauren_gross\", \"https://www.newyorker.com/magazine/2018/07/09/under-the-wave\"],\n",
    "    [\"tenth_dec-george_saunders\", \"https://www.newyorker.com/magazine/2011/10/31/tenth-of-december\"],\n",
    "    [\"town_cat-haruki_murakami\", \"https://www.newyorker.com/magazine/2011/09/05/town-of-cats\"],\n",
    "    [\"kino-haruki_murakami\", \"https://www.newyorker.com/magazine/2015/02/23/kino\"],\n",
    "    [\"samsa-haruki_murakami\", \"https://www.newyorker.com/magazine/2013/10/28/samsa-in-love\"],\n",
    "    [\"legacy-junot_diaz\", \"https://www.newyorker.com/magazine/2018/04/16/the-silence-the-legacy-of-childhood-trauma\"]\n",
    "]\n",
    "\n",
    "\n",
    "for b in books:\n",
    "    parsed = get_parsed_html(b[1])\n",
    "    print(b[1])\n",
    "    \n",
    "    paragraphs = parsed.find_all('p')\n",
    "        \n",
    "    file = open(b[0] + \".txt\", \"w\", encoding=\"utf-8\")\n",
    "#     file.write(paragraphs[5].text)\n",
    "    \n",
    "    for p in range(2, len(paragraphs)-11):\n",
    "#          print(type(paragraphs[p].text))\n",
    "         file.write(paragraphs[p].text)\n",
    "         file.write(\" \")\n",
    "    \n",
    "    file.close() \n",
    "\n",
    "    print(\"finished this file\")\n",
    "\n",
    "\n",
    "                  "
   ]
  },
  {
   "cell_type": "code",
   "execution_count": null,
   "metadata": {},
   "outputs": [],
   "source": []
  },
  {
   "cell_type": "code",
   "execution_count": null,
   "metadata": {},
   "outputs": [],
   "source": []
  },
  {
   "cell_type": "code",
   "execution_count": null,
   "metadata": {},
   "outputs": [],
   "source": []
  },
  {
   "cell_type": "code",
   "execution_count": null,
   "metadata": {},
   "outputs": [],
   "source": []
  }
 ],
 "metadata": {
  "kernelspec": {
   "display_name": "Python 3",
   "language": "python",
   "name": "python3"
  },
  "language_info": {
   "codemirror_mode": {
    "name": "ipython",
    "version": 3
   },
   "file_extension": ".py",
   "mimetype": "text/x-python",
   "name": "python",
   "nbconvert_exporter": "python",
   "pygments_lexer": "ipython3",
   "version": "3.7.1"
  }
 },
 "nbformat": 4,
 "nbformat_minor": 2
}
