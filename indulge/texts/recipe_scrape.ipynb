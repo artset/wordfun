{
 "cells": [
  {
   "cell_type": "code",
   "execution_count": 28,
   "metadata": {},
   "outputs": [
    {
     "name": "stdout",
     "output_type": "stream",
     "text": [
      "[{'title': 'Double Ginger Sticky Toffee Pudding', 'desc': 'The gooey toffee sauce is both absorbed by the cake and served on the side. For a glossy, polished presentation, brush the still-warm cake with a clean pastry brush after it comes out of the pan, which will remove some of the excess syrup. Learn how to make this recipe and more in our online cooking class with Sur la Table.', 'ingredients': ['½ cup (1 stick) unsalted butter, room temperature, plus more for pan', '2 cups all-purpose flour, plus more for pan', '10 ounces Medjool dates, chopped (about 2 cups)', '1 teaspoon baking soda', '2 teaspoons baking powder', '½ teaspoon kosher salt', '1 cup (packed) dark brown sugar', '2 teaspoons finely grated peeled ginger', '3 large eggs, room temperature', '½ cup chopped crystallized ginger'], 'prep': ['Preheat oven to 350˚. Thoroughly butter and flour pan, making sure to get into all curved or detailed places. Toss dates and baking soda in a small bowl to coat, then pour in 1 cup boiling water. Let mixture sit until dates are very soft, 10–15 minutes. Mash dates lightly with a fork (mixture will be thick but not smooth and homogenous).', 'While dates are soaking, whisk baking powder, salt, and remaining 2 cups flour in a medium bowl.', 'Using an electric mixer on high speed, beat brown sugar, fresh ginger, and remaining ½ cup butter in a large bowl until light and fluffy, about 4 minutes. Add eggs one at a time, beating to blend after each addition before adding the next. Then alternating, add dry ingredients and date mixture in 2 additions each, starting with dry ingredients and ending with date mixture. Fold in crystallized ginger. Scrape batter into prepared pan and smooth surface.', 'Bake cake until top is firm and springs back when gently pressed with your fingers and a tester inserted into the center comes out clean, 35–45 minutes. Transfer pan to a wire rack set inside a rimmed baking sheet. Let cake cool in pan 10 minutes before turning out onto rack, then let cool another 20 minutes (cake should still be warm).']}, {'title': 'Bourbon–Sea Salt Caramels', 'desc': 'Sweetened condensed milk makes this salted caramel recipe extra-luscious.', 'ingredients': ['Nonstick vegetable oil spray', '2 cups sugar', '½ cup light corn syrup', '1 14-oz. can sweetened condensed milk', '½ cup (1 stick) unsalted butter, cut into small pieces', '2 tablespoons bourbon', '½ teaspoon kosher salt', 'Flaky sea salt (such as Maldon)'], 'prep': ['A candy thermometer']}, {'title': 'Giant Chocolate Chip Skillet Cookie', 'desc': 'The batter for this large-format dreamboat of a cookie (crunchy on the edges, chewy in the middle) is made in one bowl with no special equipment, and can be baked in either a cast-iron or large skillet.', 'ingredients': ['1 cup semisweet chocolate wafers (discs, pistoles, fèves)', '½ cup plus 2 tablespoons dark brown sugar', '⅓ cup granulated sugar', '¼ cup (½ stick) plus 2 tablespoons unsalted butter, room temperature', '¾ teaspoon kosher salt', '1 large egg, room temperature', '1½ teaspoons vanilla paste or extract', '1 cup all-purpose flour', '¼ teaspoon baking soda', 'Flaky sea salt'], 'prep': ['Place a rack in lowest position in oven; preheat to 375°. Coarsely chop chocolate, leaving several wafers whole; set aside.', 'Mix brown sugar, granulated sugar, butter, and kosher salt in a large bowl until no large lumps remain, about 1 minute. Stir in egg and vanilla until egg is incorporated and mixture is very loose and resembles cake batter, about 30 seconds. Add flour and baking soda and mix until dough comes together and no streaks remain, about 30 seconds. Stir in ¾ cup chocolate, reserving remaining chocolate, until evenly distributed.', 'Scrape batter into a 10\" cast-iron skillet (or use a stainless steel skillet coated with nonstick vegetable oil spray). Pat batter into skillet with damp hands, pressing into an even layer so dough extends to sides of pan. Scatter remaining chocolate over cookie and sprinkle with sea salt.', 'Bake cookie until outer edges are browned and slightly puffed, 20–25 minutes (15–18 minutes for stainless steel). Let cool in skillet 1 hour (if you can resist). Serve in skillet or turn out; cut into wedges.']}, {'title': 'Toasted Marshmallow Butterscotch Pie', 'desc': 'Showstoppers like this don’t come easy. Here’s the strategy: Blind bake the crust on Day 1; fill and bake on Day 2; and assemble on Day 3.', 'ingredients': ['2 ounces bittersweet chocolate, chopped', '¼ cup plus ⅔ heavy cream', '1 blind-baked Sister Pie Crust, cooled', '1¼ cups (packed) dark brown sugar', '¼ cup fine-grind yellow cornmeal', '¼ teaspoon kosher salt', '½ cup (1 stick) unsalted butter, melted', '3 large eggs, room temperature', '3 tablespoons whole milk', '1 teaspoon vanilla extract'], 'prep': ['Heat chocolate and ¼ cup cream in a heatproof bowl set over a saucepan of barely simmering water (bowl should not touch water), stirring, until chocolate is melted and mixture is smooth. Let ganache cool slightly, then scrape into pie crust and spread evenly over bottom. Let sit until set, 30–45 minutes.', 'Preheat oven to 300°. Mix brown sugar, cornmeal, salt, and butter in a medium bowl with a wooden spoon until no lumps remain. In a separate medium bowl, whisk eggs, milk, vanilla, and remaining ⅔ cup cream until no streaks remain. Whisking constantly, gradually add egg mixture to butter mixture and whisk just until combined and smooth. Pour filling into crust and place on a foil-lined rimmed baking sheet. Bake until filling is browned and puffed around the edges and the center 4\" wobbles when pie is jostled, 55–70 minutes. Transfer to a wire rack and let cool, at least 4 hours and up to 12 hours (longer is better; do not refrigerate).', 'Do Ahead: Pie (without marshmallow topping) can be made 1 day ahead. Let cool, then store covered at room temperature.']}, {'title': 'BA’s Best Carrot Cake', 'desc': \"This is the only carrot cake recipe you’ll ever need. This is part of BA's Best, a collection of our essential recipes.\", 'ingredients': ['Nonstick vegetable oil spray', '½ cup golden raisins (optional)', '3 tablespoons dark rum (optional)', '1 cup chopped walnuts', '1 pound carrots, peeled, coarsely grated', '1 cup buttermilk, room temperature', '2½ cups all-purpose flour', '2 teaspoons ground cinnamon', '2 teaspoons ground ginger', '½ teaspoon freshly grated nutmeg', '2 teaspoons baking powder', '1½ teaspoons kosher salt', '¾ teaspoon baking soda', '4 large eggs, room temperature', '1 cup granulated sugar', '¾ cup (packed) dark brown sugar', '2 teaspoons vanilla extract', '¾ cup vegetable oil'], 'prep': ['Preheat oven to 350°. Lightly coat two 9\"-diameter cake pans with nonstick spray. Line bottoms with parchment paper rounds; lightly coat rounds with nonstick spray. If using raisins and rum, heat together in a small saucepan over low just until warm, about 2 minutes. Remove from heat and let sit until liquid is absorbed and raisins are plump, 15–20 minutes.', 'Meanwhile, toast walnuts on a rimmed baking sheet, tossing once, until golden brown, 8–10 minutes; let cool. Combine carrots and buttermilk in a medium bowl.', 'Whisk flour, cinnamon, ginger, nutmeg, baking powder, salt, and baking soda in a large bowl. Using an electric mixer on high speed, beat eggs, granulated sugar, brown sugar, and vanilla extract until pale and thick, about 4 minutes. Reduce speed to medium-low and gradually stream in oil. Add dry ingredients in 3 additions, alternating with carrot mixture in 2 additions, beginning and ending with dry ingredients; mix until smooth. Fold in raisins, if using, and walnuts with a rubber spatula. Scrape batter into prepared pans.', 'Bake cakes, rotating pans halfway through, until a tester inserted into the center comes out clean, 35–45 minutes. Transfer pans to a wire rack and let cakes cool 10 minutes. Run a knife around sides of cakes and invert onto wire rack; remove parchment. Let cool completely.']}, {'title': 'Caramel Ice Cream', 'desc': 'A dark caramel has the necessary bitter edge to balance the sweet richness of the custard. Let it cook until it’s mahogany in color.', 'ingredients': ['1¼ cups plus 2 tablespoons sugar', '2 cups heavy cream, room temperature', '1 teaspoon vanilla extract', '½ teaspoon kosher salt', '7 large egg yolks', '1¼ cups chilled whole milk'], 'prep': ['Place a fine-mesh sieve over a medium bowl set in a large bowl filled a third of the way with ice water; set aside. Sprinkle a thin even layer of sugar into a large heavy saucepan. Cook undisturbed over medium heat until mostly melted, about 4 minutes. Sprinkle another layer of sugar over and cook, stirring around edges of saucepan with a heatproof spatula to move melted sugar to center, until mostly melted, another minute or so. Repeat until you’ve used 1¼ cups sugar and it’s mostly melted (there may be some undissolved clumps), 6–8 minutes. Continue cooking, swirling saucepan (do not stir), until caramel is very fluid and has turned dark amber, about 5 minutes. Remove from heat and, adding gradually, stir in heavy cream. Caramel will seize, but don’t worry. Place saucepan over low heat and stir until any hardened caramel is dissolved. Stir in vanilla and salt; set aside.', 'Whisk egg yolks and remaining 2 Tbsp. sugar in a medium bowl until lightened in color and thick, about 1 minute. Whisking constantly, gradually add about ½ cup hot caramel mixture to egg yolk mixture. Whisk mixture back into saucepan, then cook over medium-low heat, whisking constantly, until custard is thick enough to coat a spoon and just holds the marks of the whisk, about 5 minutes. Immediately pour through prepared sieve into bowl. Stir mixture constantly until cold, about 5 minutes, then whisk in milk.', 'Process custard in ice cream maker according to manufacturer’s directions. Scrape into a loaf pan or airtight container and press plastic wrap directly onto surface. Freeze until firm, at least 4 hours.', 'Do Ahead: Custard base can be made 1 day ahead; cover and chill. Ice cream can be made 1 week ahead; keep frozen.']}, {'title': 'Toasted Pecan Torte with Butterscotch Topping', 'desc': \"This low-profile torte is elegant, understated, and—here's the key—make-ahead-able. Plus, it eats like a cross between a pecan pie, sticky toffee pudding, and a butterscotch sundae.\", 'ingredients': ['1¼ cups (2½ sticks) unsalted butter, room temperature, divided, plus more for pan', '1½ cups all-purpose flour, plus more for pan', '4½ cups pecan halves', '2¼ tsp. baking powder', '1¾ tsp. kosher salt, divided', '1 cup granulated sugar', '1 Tbsp. finely grated orange zest', '3 large eggs, room temperature', '4 Tbsp. rum, divided', '½ cup (packed) dark brown sugar', '1½ cups chilled heavy cream, divided'], 'prep': ['Place a rack in middle of oven; preheat to 350°. Butter and flour pan. Toast pecans on a rimmed baking sheet, tossing once, until slightly darkened in color and fragrant, 12–15 minutes. Let cool.', 'Pulse baking powder, 1 tsp. salt, 1½ cups flour, and 2½ cups pecans in a food processor until nuts are finely ground. Using an electric mixer on medium-high speed, beat granulated sugar, orange zest, and 1 cup butter in a large bowl, scraping down sides, until light and fluffy, about 5 minutes. Add eggs to bowl. Beat until combined and mixture is even fluffier, about 1 minute. Beat in 3 Tbsp. rum; stop mixer and add dry ingredients. Mix on low speed just until combined, then fold a few times with a rubber spatula, scraping bottom and sides of bowl, to ensure batter is evenly mixed. Scrape batter into prepared pan and smooth top.', 'Bake torte until golden brown and a tester inserted into the center comes out clean, 45–50 minutes. Transfer pan to a wire rack and let torte cool in pan.', 'Meanwhile, bring brown sugar, ½ cup cream, remaining ¼ cup butter, and remaining 1 Tbsp. rum to a boil in a small saucepan over medium heat, stirring often, and cook until slightly thickened, about 3 minutes. Remove butterscotch from heat and stir in remaining ¾ tsp. salt. Mix in remaining 2 cups pecans and let sit at room temperature, stirring occasionally, until butterscotch is cool but still pourable.', 'Spread topping over torte.', 'Whisk remaining 1 cup cream in a large bowl to medium peaks. Serve torte topped with dollops of whipped cream.', 'Do Ahead: Topping (without pecans) can be made 3 days ahead; cover and chill. Reheat over low before mixing in the nuts. Torte can be baked 1 day ahead; store tightly wrapped at room temperature.']}, {'title': 'Double Pecan Thumbprints', 'desc': 'These buttery frangipane-filled pecan buttons are decadent without being fragile, and they make excellent cookies for boxing up and giving as gifts. Dusting them powdered sugar before baking creates a crackly, glossy coating. Feel free to add more afterward as well.', 'ingredients': ['2 cups pecan halves', '⅓ cup granulated sugar', '1 large egg white', '2 Tbsp. unsalted butter, room temperature', '2 tsp. espresso powder', '½ tsp. kosher salt', '¼ tsp. almond extract'], 'prep': ['Preheat oven to 350°. Lightly toast pecans on a rimmed baking sheet, tossing halfway through, until slightly darkened in color and fragrant, 6–8 minutes. Let cool; set 1¼ cups pecans aside for making the dough.', 'Pulse granulated sugar and remaining ¾ cup pecans in a food processor until nuts are very finely ground (be careful to stop before they become a paste), 30–60 seconds. Add egg white and pulse just to blend, then add butter, espresso powder, salt, and almond extract. Pulse just until mixture is smooth and combined. Scrape frangipane into a small bowl and chill at least 30 minutes before using.', 'Do Ahead: Frangipane can be made 3 days ahead. Cover and keep chilled. You will have more than you need, but try slathering leftovers on toasted brioche and baking until lightly browned (sort of like an almond croissant). We guarantee you won’t be upset about it.']}, {'title': 'Double Pecan Thumbprints', 'desc': 'These buttery frangipane-filled pecan buttons are decadent without being fragile, and they make excellent cookies for boxing up and giving as gifts. Dusting them powdered sugar before baking creates a crackly, glossy coating. Feel free to add more afterward as well.', 'ingredients': ['2 cups pecan halves', '⅓ cup granulated sugar', '1 large egg white', '2 Tbsp. unsalted butter, room temperature', '2 tsp. espresso powder', '½ tsp. kosher salt', '¼ tsp. almond extract'], 'prep': ['Preheat oven to 350°. Lightly toast pecans on a rimmed baking sheet, tossing halfway through, until slightly darkened in color and fragrant, 6–8 minutes. Let cool; set 1¼ cups pecans aside for making the dough.', 'Pulse granulated sugar and remaining ¾ cup pecans in a food processor until nuts are very finely ground (be careful to stop before they become a paste), 30–60 seconds. Add egg white and pulse just to blend, then add butter, espresso powder, salt, and almond extract. Pulse just until mixture is smooth and combined. Scrape frangipane into a small bowl and chill at least 30 minutes before using.', 'Do Ahead: Frangipane can be made 3 days ahead. Cover and keep chilled. You will have more than you need, but try slathering leftovers on toasted brioche and baking until lightly browned (sort of like an almond croissant). We guarantee you won’t be upset about it.']}]\n"
     ]
    }
   ],
   "source": [
    "import os \n",
    "import urllib \n",
    "import re \n",
    "import json \n",
    "import requests \n",
    "from datetime import timedelta, date \n",
    "from time import sleep \n",
    "from bs4 import BeautifulSoup\n",
    "\n",
    "########################################\n",
    "# HELPERS\n",
    "\n",
    "def get_parsed_html(URL):\n",
    "    request = urllib.request.Request(URL) \n",
    "    response = urllib.request.urlopen(request) \n",
    "    page = response.read() \n",
    "    parsed = BeautifulSoup(page, 'html.parser') \n",
    "    return parsed\n",
    "\n",
    "########################################\n",
    "\n",
    "\n",
    "food_list = [\n",
    "    \"https://www.bonappetit.com/recipe/double-ginger-sticky-toffee-pudding\",\n",
    "    \"https://www.bonappetit.com/recipe/bourbon-sea-salt-caramels\",\n",
    "    \"https://www.bonappetit.com/recipe/giant-chocolate-chip-skillet-cookie\",\n",
    "    \"https://www.bonappetit.com/recipe/toasted-marshmallow-butterscotch-pie\",\n",
    "    \"https://www.bonappetit.com/recipe/bas-best-carrot-cake\",\n",
    "    \"https://www.bonappetit.com/recipe/caramel-ice-cream-2\",\n",
    "    \"https://www.bonappetit.com/recipe/toasted-pecan-torte-with-butterscotch-topping\",\n",
    "    \"https://www.bonappetit.com/recipe/double-pecan-thumbprints\",\n",
    "    \"https://www.bonappetit.com/recipe/double-pecan-thumbprints\"\n",
    "    \n",
    "]\n",
    "\n",
    "recipe = []\n",
    "\n",
    "for r in food_list:\n",
    "    parsed = get_parsed_html(r)\n",
    "    title = parsed.find('h1').text\n",
    "    desc = parsed.find('h2').text\n",
    "\n",
    "    ingred_table = parsed.find('ul',attrs={'class':'ingredients__group'}).find_all('li')\n",
    "\n",
    "    ingred_text = []\n",
    "    for i in ingred_table:\n",
    "        ingred_text.append(i.text)\n",
    "\n",
    "    prep = parsed.find('ul', attrs={'class': 'steps'}).find_all('p')\n",
    "\n",
    "    prep_text = []\n",
    "\n",
    "    for p in prep:\n",
    "        prep_text.append(p.text)\n",
    "\n",
    "    recipe.append({\"title\": title, \"desc\": desc, \"ingredients\": ingred_text, \"prep\": prep_text})\n",
    "\n",
    "print(recipe)\n",
    "\n",
    "with open('recipe.json', 'w', encoding='utf-8') as outfile:  \n",
    "    json.dump(recipe, outfile, ensure_ascii=False, indent=4, separators=(',', ': ')) \n"
   ]
  },
  {
   "cell_type": "code",
   "execution_count": null,
   "metadata": {},
   "outputs": [],
   "source": []
  }
 ],
 "metadata": {
  "kernelspec": {
   "display_name": "Python 3",
   "language": "python",
   "name": "python3"
  },
  "language_info": {
   "codemirror_mode": {
    "name": "ipython",
    "version": 3
   },
   "file_extension": ".py",
   "mimetype": "text/x-python",
   "name": "python",
   "nbconvert_exporter": "python",
   "pygments_lexer": "ipython3",
   "version": "3.7.1"
  }
 },
 "nbformat": 4,
 "nbformat_minor": 2
}
